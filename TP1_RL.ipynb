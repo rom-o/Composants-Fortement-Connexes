{
  "nbformat": 4,
  "nbformat_minor": 0,
  "metadata": {
    "colab": {
      "provenance": []
    },
    "kernelspec": {
      "name": "python3",
      "display_name": "Python 3"
    },
    "language_info": {
      "name": "python"
    }
  },
  "cells": [
    {
      "cell_type": "markdown",
      "source": [
        "#TP1  : **Algorithme de Composants Fortement Connexes**"
      ],
      "metadata": {
        "id": "4S5d_at1wxP2"
      }
    },
    {
      "cell_type": "markdown",
      "source": [
        "  **Réalisé par:**  ROM OUMAYMA                                            \n",
        "              **Encadrer par :** Prof.Driss Ait Omar"
      ],
      "metadata": {
        "id": "is70x5xOw9W9"
      }
    },
    {
      "cell_type": "markdown",
      "source": [
        " Initialisation\n",
        "                                                   "
      ],
      "metadata": {
        "id": "pl0unGHowc8h"
      }
    },
    {
      "cell_type": "code",
      "source": [
        "import numpy as np\n",
        "ordre_visite = []\n",
        "marques_min = []\n",
        "pile_sommets = []\n",
        "dans_pile = []\n",
        "i = 1\n",
        "composantes_cfc = []"
      ],
      "metadata": {
        "id": "0onCvME2xXit"
      },
      "execution_count": null,
      "outputs": []
    },
    {
      "cell_type": "markdown",
      "source": [
        "La fonction parcourir_sommet explore les sommets d'un graphe en utilisant un parcours en profondeur (DFS) tout en enregistrant l'ordre de visite et les valeurs minimales. Elle détecte les composantes fortement connexes (CFC) en dépilant les sommets lorsque le sommet actuel est une racine de CFC. Ensuite, elle ajoute les composantes identifiées à une liste pour les utiliser plus tard."
      ],
      "metadata": {
        "id": "HMin9P0jxafw"
      }
    },
    {
      "cell_type": "code",
      "source": [
        "\n",
        "def parcourir_sommet(graphe, sommet):\n",
        "    global i\n",
        "    ordre_visite[sommet] = i\n",
        "    marques_min[sommet] = i\n",
        "    i += 1\n",
        "    pile_sommets.append(sommet)\n",
        "    dans_pile[sommet] = True\n",
        "\n",
        "    nb_sommets = graphe.shape[0]\n",
        "\n",
        "    # Explorer les voisins du sommet\n",
        "    for voisin in range(1, nb_sommets + 1):\n",
        "        if graphe[sommet-1][voisin-1] > 0:\n",
        "            if ordre_visite[voisin] == -1:\n",
        "                parcourir_sommet(graphe, voisin)\n",
        "                marques_min[sommet] = min(marques_min[sommet], marques_min[voisin])\n",
        "            elif dans_pile[voisin]:\n",
        "                marques_min[sommet] = min(marques_min[sommet], ordre_visite[voisin])\n",
        "\n",
        "    # Si on a trouvé une composante fortement connexe\n",
        "    if ordre_visite[sommet] == marques_min[sommet]:\n",
        "        composante_actuelle = []\n",
        "        while True:\n",
        "            s = pile_sommets.pop()\n",
        "            dans_pile[s] = False\n",
        "            composante_actuelle.append(s)\n",
        "            if s == sommet:\n",
        "                break\n",
        "        # Ajouter la composante trouvée\n",
        "        if len(composante_actuelle) > 1 or graphe[sommet-1][sommet-1] > 0:\n",
        "            composantes_cfc.append(composante_actuelle)\n"
      ],
      "metadata": {
        "id": "kInYWTQVyQUZ"
      },
      "execution_count": null,
      "outputs": []
    },
    {
      "cell_type": "markdown",
      "source": [
        "La fonction identifier_CFC sert de point principal pour détecter les composantes fortement connexes (CFC) dans un graphe. Elle réinitialise les structures nécessaires pour la recherche, comme l'ordre de visite et les valeurs minimales, tout en initialisant une pile pour le suivi des sommets. Ensuite, elle parcourt chaque sommet, et si un sommet n’a pas été visité, elle lance la fonction parcourir_sommet pour l’explorer."
      ],
      "metadata": {
        "id": "efu2GOOqynAe"
      }
    },
    {
      "cell_type": "code",
      "source": [
        "\n",
        "def identifier_CFC(graphe):\n",
        "    global ordre_visite, marques_min, pile_sommets, dans_pile, i, composantes_cfc\n",
        "    nb_sommets = graphe.shape[0]\n",
        "\n",
        "    # Réinitialiser les structures pour la recherche\n",
        "    ordre_visite = [-1] * (nb_sommets + 1)  # Indexation commence à 1\n",
        "    marques_min = [-1] * (nb_sommets + 1)\n",
        "    pile_sommets = []\n",
        "    dans_pile = [False] * (nb_sommets + 1)\n",
        "    i = 1\n",
        "    composantes_cfc = []\n",
        "\n",
        "    # Parcourir chaque sommet à partir de 1\n",
        "    for sommet in range(1, nb_sommets + 1):\n",
        "        if ordre_visite[sommet] == -1:\n",
        "            parcourir_sommet(graphe, sommet)"
      ],
      "metadata": {
        "id": "E5fI_Lg8youC"
      },
      "execution_count": null,
      "outputs": []
    },
    {
      "cell_type": "markdown",
      "source": [
        "EXEMPLE\n"
      ],
      "metadata": {
        "id": "gwdkXi4pzZfU"
      }
    },
    {
      "cell_type": "code",
      "source": [
        "\n",
        "M = np.array([\n",
        "    [1, 0, 0, 0],\n",
        "    [0, 0, 1/2, 1/2],\n",
        "    [0, 0, 0, 1],\n",
        "    [0, 0, 2/3, 1/3]\n",
        "])\n",
        "\n",
        "identifier_CFC(M)\n",
        "\n",
        "print(\"Les composantes fortement connexes sont :\")\n",
        "for cfc in composantes_cfc:\n",
        "    print(cfc)\n"
      ],
      "metadata": {
        "colab": {
          "base_uri": "https://localhost:8080/"
        },
        "id": "bWdQasbPu7Do",
        "outputId": "11e2fb22-763e-4497-a148-a0cce968e087"
      },
      "execution_count": null,
      "outputs": [
        {
          "output_type": "stream",
          "name": "stdout",
          "text": [
            "Les composantes fortement connexes sont :\n",
            "[1]\n",
            "[4, 3]\n"
          ]
        }
      ]
    },
    {
      "cell_type": "markdown",
      "source": [
        "##CODE VERSION 2"
      ],
      "metadata": {
        "id": "0ml8Xkcuzhxm"
      }
    },
    {
      "cell_type": "markdown",
      "source": [
        "Dans cette section, nous présentons une version améliorée de l'algorithme de recherche des composantes fortement connexes. Cette version adopte une approche orientée objet en définissant une classe GrapheCFC. Cette encapsulation des données et des méthodes associées améliore la modularité et la lisibilité du code. En utilisant des attributs de classe pour stocker l'état du graphe et des sommets, nous limitons l'utilisation de variables globales, ce qui rend le code plus sûr et moins sujet aux erreurs. Les méthodes explorer, trouver_CFC, et afficher_CFC sont encapsulées dans la classe, assurant une meilleure séparation des préoccupations et permettant à chaque méthode d'avoir une responsabilité spécifique. Enfin, l'organisation de l'exécution du programme à l'intérieur d'une classe facilite la création d'instances de GrapheCFC et l'appel de ses méthodes de manière claire et séquentielle, rendant l'utilisation de l'algorithme plus intuitive et compréhensible."
      ],
      "metadata": {
        "id": "qp2nHbRb2Ae8"
      }
    },
    {
      "cell_type": "code",
      "source": [
        "import numpy as np\n",
        "\n",
        "# Classe pour trouver les composantes fortement connexes\n",
        "class GrapheCFC:\n",
        "    def __init__(self, graphe):\n",
        "        self.graphe = graphe\n",
        "        self.n = graphe.shape[0]  # Nombre de sommets\n",
        "        self.ordre_visite = [-1] * (self.n + 1)\n",
        "        self.valeur_min = [-1] * (self.n + 1)\n",
        "        self.pile = []  # Pile de sommets\n",
        "        self.est_dans_pile = [False] * (self.n + 1)  # Indique si un sommet est dans la pile\n",
        "        self.id_visite = 1\n",
        "        self.composantes_fortes = []  # Liste des composantes fortement connexes\n",
        "\n",
        "    def explorer(self, sommet):\n",
        "        # Marquer le sommet avec son ordre de visite et l'ajouter à la pile\n",
        "        self.ordre_visite[sommet] = self.valeur_min[sommet] = self.id_visite\n",
        "        self.id_visite += 1\n",
        "        self.pile.append(sommet)\n",
        "        self.est_dans_pile[sommet] = True\n",
        "\n",
        "        # Explorer les voisins du sommet\n",
        "        for voisin in range(1, self.n + 1):\n",
        "            if self.graphe[sommet-1][voisin-1] > 0:  # Sommet-1 et voisin-1 pour indexation correcte\n",
        "                if self.ordre_visite[voisin] == -1:  # Si le voisin n'est pas encore visité\n",
        "                    self.explorer(voisin)\n",
        "                    self.valeur_min[sommet] = min(self.valeur_min[sommet], self.valeur_min[voisin])\n",
        "                elif self.est_dans_pile[voisin]:  # Si le voisin est déjà dans la pile\n",
        "                    self.valeur_min[sommet] = min(self.valeur_min[sommet], self.ordre_visite[voisin])\n",
        "\n",
        "        # Vérifier si on a trouvé une composante fortement connexe\n",
        "        if self.ordre_visite[sommet] == self.valeur_min[sommet]:\n",
        "            composante = []\n",
        "            while True:\n",
        "                sommet_actuel = self.pile.pop()\n",
        "                self.est_dans_pile[sommet_actuel] = False\n",
        "                composante.append(sommet_actuel)\n",
        "                if sommet_actuel == sommet:\n",
        "                    break\n",
        "            if len(composante) > 1 or self.graphe[sommet-1][sommet-1] > 0:\n",
        "                self.composantes_fortes.append(composante)\n",
        "\n",
        "    def trouver_CFC(self):\n",
        "        # Parcourir chaque sommet et explorer si non visité\n",
        "        for sommet in range(1, self.n + 1):\n",
        "            if self.ordre_visite[sommet] == -1:\n",
        "                self.explorer(sommet)\n",
        "\n",
        "    def afficher_CFC(self):\n",
        "        # Afficher les composantes fortement connexes\n",
        "        print(\"Les composantes fortement connexes sont :\")\n",
        "        for composante in self.composantes_fortes:\n",
        "            print(composante)\n",
        "\n",
        "\n",
        "# Exécution du programme\n",
        "matrice_adjacence = np.array([\n",
        "    [1, 0, 0, 0],\n",
        "    [0, 0, 1/2, 1/2],\n",
        "    [0, 0, 0, 1],\n",
        "    [0, 0, 2/3, 1/3]\n",
        "])\n",
        "\n",
        "# Créer une instance de la classe et trouver les CFC\n",
        "graphe = GrapheCFC(matrice_adjacence)\n",
        "graphe.trouver_CFC()\n",
        "graphe.afficher_CFC()\n"
      ],
      "metadata": {
        "colab": {
          "base_uri": "https://localhost:8080/"
        },
        "id": "rB7lcPrzvTSM",
        "outputId": "36ec1fbf-0649-416b-a20d-6673ee0404df"
      },
      "execution_count": null,
      "outputs": [
        {
          "output_type": "stream",
          "name": "stdout",
          "text": [
            "Les composantes fortement connexes sont :\n",
            "[1]\n",
            "[4, 3]\n"
          ]
        }
      ]
    }
  ]
}